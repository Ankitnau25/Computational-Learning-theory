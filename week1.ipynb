{
 "cells": [
  {
   "cell_type": "markdown",
   "id": "7e9f85a4-7861-4eda-b2ba-184771697c43",
   "metadata": {},
   "source": [
    "### Subfields of statistical learning theory:\n",
    "<p>The goal is to study learning algorithms that are algorithms who receive some data, and provide and give us result, and estimation function f.\n",
    "Our goal is to prove performance guarantees on these learning algorithms, the same is done in statistics, but there are people consider very specific distributions on both the input X, and the output Y. For example, they assume the Gaussian distributed a mixture of Gaussian exponential families. The distributions they consider they belong to a family that can be parameterized by a few parameters. In statistical learning theory, we make no or just very general assumptions on the distributions. These assumptions never allow us to parameterize the family of distributions and satisfy them. \n",
    "These subfields are defined by what is the set Y, the set of outputs or labels or targets, and what data is given, and how it is represented. We will start with problems where all data is given at the beginning, and we have to produce an estimation function, and then our job is done. It's called batch learning.\n",
    "Subfileds can be on basis of all data given Y fixed classification cluster Y unfixed regression ,Diminsionality reduction\n",
    "Subfiled can be supervised online batch , active reinforcment</p>\n",
    "\n",
    "### Overfit to get rich:-\n",
    "<p>If tree is small then its ike small company useful else its not good. Neural net are exception</p>\n",
    "\n",
    "### 3 levels\n",
    "<p>Reproductive learning: problamatic unseen data\n",
    "Rule based : threshold on numbers doctors based\n",
    "Creative learning : rotation picture</p>"
   ]
  },
  {
   "cell_type": "code",
   "execution_count": null,
   "id": "ba1877dd-490c-4167-9a56-2e9fb591eab8",
   "metadata": {},
   "outputs": [],
   "source": []
  }
 ],
 "metadata": {
  "kernelspec": {
   "display_name": "Python 3",
   "language": "python",
   "name": "python3"
  },
  "language_info": {
   "codemirror_mode": {
    "name": "ipython",
    "version": 3
   },
   "file_extension": ".py",
   "mimetype": "text/x-python",
   "name": "python",
   "nbconvert_exporter": "python",
   "pygments_lexer": "ipython3",
   "version": "3.8.8"
  }
 },
 "nbformat": 4,
 "nbformat_minor": 5
}
